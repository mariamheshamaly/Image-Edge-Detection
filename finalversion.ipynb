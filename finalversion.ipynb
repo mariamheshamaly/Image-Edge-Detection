{
  "cells": [
    {
      "cell_type": "code",
      "execution_count": null,
      "metadata": {
        "id": "_0dCjz5JhrF4"
      },
      "outputs": [],
      "source": [
        "import matplotlib.pyplot as plt\n",
        "from PIL import Image\n",
        "import matplotlib \n",
        "import numpy as np"
      ]
    },
    {
      "cell_type": "code",
      "execution_count": null,
      "metadata": {
        "id": "47S9wF66oiOE",
        "outputId": "7fff7025-2ad8-448c-f638-b7544c5f2e45",
        "colab": {
          "base_uri": "https://localhost:8080/",
          "height": 312
        }
      },
      "outputs": [
        {
          "output_type": "error",
          "ename": "FileNotFoundError",
          "evalue": "ignored",
          "traceback": [
            "\u001b[0;31m---------------------------------------------------------------------------\u001b[0m",
            "\u001b[0;31mFileNotFoundError\u001b[0m                         Traceback (most recent call last)",
            "\u001b[0;32m<ipython-input-2-335bfcf0cccc>\u001b[0m in \u001b[0;36m<cell line: 1>\u001b[0;34m()\u001b[0m\n\u001b[0;32m----> 1\u001b[0;31m \u001b[0mim\u001b[0m \u001b[0;34m=\u001b[0m \u001b[0mImage\u001b[0m\u001b[0;34m.\u001b[0m\u001b[0mopen\u001b[0m\u001b[0;34m(\u001b[0m\u001b[0;34m\"/content/sample_image.jpg\"\u001b[0m\u001b[0;34m)\u001b[0m\u001b[0;34m.\u001b[0m\u001b[0mconvert\u001b[0m\u001b[0;34m(\u001b[0m\u001b[0;34m\"L\"\u001b[0m\u001b[0;34m)\u001b[0m\u001b[0;34m\u001b[0m\u001b[0;34m\u001b[0m\u001b[0m\n\u001b[0m\u001b[1;32m      2\u001b[0m \u001b[0;34m\u001b[0m\u001b[0m\n",
            "\u001b[0;32m/usr/local/lib/python3.10/dist-packages/PIL/Image.py\u001b[0m in \u001b[0;36mopen\u001b[0;34m(fp, mode, formats)\u001b[0m\n\u001b[1;32m   2973\u001b[0m \u001b[0;34m\u001b[0m\u001b[0m\n\u001b[1;32m   2974\u001b[0m     \u001b[0;32mif\u001b[0m \u001b[0mfilename\u001b[0m\u001b[0;34m:\u001b[0m\u001b[0;34m\u001b[0m\u001b[0;34m\u001b[0m\u001b[0m\n\u001b[0;32m-> 2975\u001b[0;31m         \u001b[0mfp\u001b[0m \u001b[0;34m=\u001b[0m \u001b[0mbuiltins\u001b[0m\u001b[0;34m.\u001b[0m\u001b[0mopen\u001b[0m\u001b[0;34m(\u001b[0m\u001b[0mfilename\u001b[0m\u001b[0;34m,\u001b[0m \u001b[0;34m\"rb\"\u001b[0m\u001b[0;34m)\u001b[0m\u001b[0;34m\u001b[0m\u001b[0;34m\u001b[0m\u001b[0m\n\u001b[0m\u001b[1;32m   2976\u001b[0m         \u001b[0mexclusive_fp\u001b[0m \u001b[0;34m=\u001b[0m \u001b[0;32mTrue\u001b[0m\u001b[0;34m\u001b[0m\u001b[0;34m\u001b[0m\u001b[0m\n\u001b[1;32m   2977\u001b[0m \u001b[0;34m\u001b[0m\u001b[0m\n",
            "\u001b[0;31mFileNotFoundError\u001b[0m: [Errno 2] No such file or directory: '/content/sample_image.jpg'"
          ]
        }
      ],
      "source": [
        "im = Image.open(\"/content/sample_image.jpg\").convert(\"L\")\n",
        "\n"
      ]
    },
    {
      "cell_type": "code",
      "execution_count": null,
      "metadata": {
        "id": "Fl9qh3Wxh9zG"
      },
      "outputs": [],
      "source": [
        "def toArrayAndSquare(im):\n",
        "\n",
        " img1 = [[0 for x in range(im.size[0])] for y in range(im.size[1])]\n",
        " sqr = [[0 for x in range(im.size[0])] for y in range(im.size[1])]\n",
        " for i in range (0,im.size[0]):\n",
        "  for j in range (0,im.size[1]):\n",
        "   img1[j][i] = im.getpixel((i,j))\n",
        "   #img2[j][i] = im.getpixel((i,j))\n",
        "   sqr[j][i] = img1[j][i] ** 2\n",
        "  \n",
        "\n",
        " return img1, sqr\n",
        "\n",
        "  \n",
        " \n",
        "  \n",
        "  \n",
        "  "
      ]
    },
    {
      "cell_type": "code",
      "source": [
        "def calculateCooccurrence(im):\n",
        " img1, sqr = toArrayAndSquare(im)\n",
        " co_occurrence_1 = [[0 for x in range(256)] for y in range(256)] \n",
        " co_occurrence_2 = [[0 for x in range(256)] for y in range(256)] \n",
        " for y in range (0,len(img1)-1):\n",
        "  for  x in range (0,len(img1[0])):\n",
        "   i= img1[y][x]\n",
        "   j= img1[y+1][x]\n",
        "   co_occurrence_1[i][j] +=1\n",
        " for y in range (0,len(img1)):\n",
        "  for  x in range (0,len(img1[0])-1):\n",
        "   i= img1[y][x]\n",
        "   j= img1[y][x+1]\n",
        "   co_occurrence_2[i][j] +=1\n",
        " return co_occurrence_1, co_occurrence_2\n"
      ],
      "metadata": {
        "id": "Urq6paebfBKo"
      },
      "execution_count": null,
      "outputs": []
    },
    {
      "cell_type": "code",
      "source": [
        "def nullifyPixels(cooccurrence_matrix):\n",
        " co_occurrence_null = [[0 for x in range(len(cooccurrence_matrix))] for y in range(len(cooccurrence_matrix[0]))]\n",
        " for y in range (0,len(co_occurrence_null)):\n",
        "   for x in range(0,len(co_occurrence_null[0])):\n",
        "    co_occurrence_null[y][x] = cooccurrence_matrix[y][x]\n",
        " c=0\n",
        " for x in range (0,len(co_occurrence_null)):\n",
        "  for y in range(0,15):\n",
        "   co_occurrence_null[x][x] = 0\n",
        "   if(x+1+y<len(co_occurrence_null)):\n",
        "    co_occurrence_null[x][x+1+y] =0\n",
        "    c = c+1 \n",
        "   if(x-1-y>=0):\n",
        "    co_occurrence_null[x][x-y-1] =0\n",
        "    c = c+1\n",
        "   if(c>30):\n",
        "    continue\n",
        " return co_occurrence_null\n"
      ],
      "metadata": {
        "id": "PW4o7Ajug5RA"
      },
      "execution_count": null,
      "outputs": []
    },
    {
      "cell_type": "code",
      "source": [
        "def imgWithCooccurrence(cooccurrence_1null, cooccurrence_2null,im):\n",
        " constructed_img, sqr= toArrayAndSquare(im)\n",
        " for y in range (0,len(constructed_img)-1):\n",
        "  for  x in range (0,len(constructed_img[0])-1):\n",
        "   i= constructed_img[y][x]\n",
        "   j= constructed_img[y+1][x]\n",
        "   k= constructed_img[y][x+1]\n",
        "   if(cooccurrence_1null[i][j] == 0 or cooccurrence_2null[i][k] == 0):\n",
        "    constructed_img[y][x] = 0\n",
        "   else:\n",
        "    constructed_img[y][x] = 255\n",
        " return constructed_img\n",
        "\n",
        "\n",
        "  \n",
        "\n"
      ],
      "metadata": {
        "id": "nKbq32NNjNKx"
      },
      "execution_count": null,
      "outputs": []
    },
    {
      "cell_type": "code",
      "execution_count": null,
      "metadata": {
        "id": "PI4K0iLhh9qw"
      },
      "outputs": [],
      "source": [
        "co1, co2 = calculateCooccurrence(im)\n",
        "\n",
        "null1 = nullifyPixels(co1)\n",
        "null2 = nullifyPixels(co2)\n",
        "\n",
        "result = imgWithCooccurrence(null1,null2,im)\n",
        "img1,z = toArrayAndSquare(im)\n",
        "plt.subplots(nrows=3, ncols=2, figsize=(25, 25))\n",
        "\n",
        "plt.subplot(3,2,3)\n",
        "plt.imshow(co1,  cmap = 'gray')\n",
        "\n",
        "plt.subplot(3,2,5)\n",
        "plt.imshow(co2,  cmap = 'gray')\n",
        "\n",
        "plt.subplot(3,2,4)\n",
        "plt.imshow(null1,  cmap = 'gray')\n",
        "\n",
        "plt.subplot(3,2,6)\n",
        "plt.imshow(null2,  cmap = 'gray')\n",
        "\n",
        "plt.subplot(3,2,2)\n",
        "plt.imshow(result,  cmap = 'gray')\n",
        "\n",
        "plt.subplot(3,2,1)\n",
        "plt.imshow(img1,  cmap = 'gray')\n",
        "\n",
        "\n",
        "\n",
        "\n"
      ]
    },
    {
      "cell_type": "code",
      "source": [
        "def integralArray(img_array):\n",
        " for x in range (0,len(img_array)):\n",
        "  sum = 0\n",
        "  for y in range (0,len(img_array[0])):\n",
        "   sum = sum + img_array[x][y]\n",
        "   img_array[x][y] = img_array[x][y] + sum\n",
        "\n",
        " for x in range (0,len(img_array[0])):\n",
        "  sum = 0\n",
        "  for y in range (0,len(img_array)):\n",
        "   \n",
        "   sum = sum + img_array[y][x]\n",
        "   img_array[y][x] =  sum\n",
        "\n",
        " return img_array\n"
      ],
      "metadata": {
        "id": "Tpzmv6oos742"
      },
      "execution_count": null,
      "outputs": []
    },
    {
      "cell_type": "code",
      "source": [
        "\n",
        "def localSum(img_array, indextop, indexbot):\n",
        "  sum2=0\n",
        "  sum2 = img_array[indexbot[0]][indexbot[1]] \n",
        "  if(indextop[1] !=0 and indextop[0] ==0):\n",
        "   sum2 = sum2 - img_array[indexbot[0]][indextop[1]-1]\n",
        "   \n",
        "  if(indextop[0] !=0 and indextop[1] ==0):\n",
        "   sum2 = sum2 - img_array[indextop[0]-1][indexbot[1]]\n",
        "   \n",
        "  if(indextop[0] != 0 and indextop[1] != 0):\n",
        "   sum2 = sum2 - img_array[indexbot[0]][indextop[1]-1]\n",
        "   sum2 = sum2 - img_array[indextop[0]-1][indexbot[1]]\n",
        "   sum2 = sum2 + img_array[indextop[0]-1][indextop[1]-1]\n",
        "  \n",
        "\n",
        "  return(sum2)\n",
        "\n",
        "\n"
      ],
      "metadata": {
        "id": "aCA0SdSYm829"
      },
      "execution_count": null,
      "outputs": []
    },
    {
      "cell_type": "code",
      "source": [
        "def applyThreshold (im, th):\n",
        "  res = [[0 for x in range(len(im[0]))] for y in range(len(im))]\n",
        "  for i in range (0,len(im)):\n",
        "    for j in range (0,len(im[0])):\n",
        "      if(im[i][j]<th):\n",
        "        res[i][j] = 0\n",
        "      else:\n",
        "        res[i][j] = 255\n",
        "  return res"
      ],
      "metadata": {
        "id": "9bvWwo0yRuy6"
      },
      "execution_count": null,
      "outputs": []
    },
    {
      "cell_type": "code",
      "source": [
        "from re import X\n",
        "from numpy.ma.core import var\n",
        "\n",
        "def imgWithIntegral(im,window_size,with_threshold):\n",
        " img1,sqr= toArrayAndSquare(im)\n",
        " result,xx = toArrayAndSquare(im)\n",
        " center_pixel= window_size[0]//2\n",
        " cols= len(img1[0])\n",
        " rows= len(img1)\n",
        " d=window_size[0]-1\n",
        " f=window_size[1]-1\n",
        " img1= integralArray(img1)\n",
        " sqr= integralArray(sqr)\n",
        " #print(img1[50][5])\n",
        " #print(sqr[3][40])\n",
        "\n",
        " for y in range (center_pixel, rows-center_pixel):\n",
        "   \n",
        "  for  x in range (center_pixel,cols-center_pixel):\n",
        "   \n",
        "   m= y-center_pixel \n",
        "   n= x-center_pixel\n",
        "   d= y+center_pixel\n",
        "   f= x+center_pixel\n",
        "\n",
        "   window_top_left= [m,n]\n",
        "   window_bot_right= [d,f] \n",
        "\n",
        "   \n",
        "\n",
        "   \n",
        "   local_sum= localSum(img1,window_top_left,window_bot_right )\n",
        "   #print(local_sum)\n",
        "   local_sum_sqr=localSum(sqr,window_top_left,window_bot_right)\n",
        "   #print(local_sum_sqr)\n",
        "   one_over_n= 1/(window_size[0]*window_size[1])\n",
        "   \n",
        "  \n",
        "   variance= (one_over_n* local_sum_sqr) - (one_over_n * local_sum)**2\n",
        "   #print(variance)\n",
        "\n",
        "   if(variance <0):\n",
        "    variance=0\n",
        "   \n",
        "   if(with_threshold==1):\n",
        "    threshold2= 750\n",
        "    \n",
        "   \n",
        "\n",
        "    if(variance > threshold2):\n",
        "     result[y][x] = 255\n",
        "    \n",
        "    \n",
        "    else:\n",
        "     result[y][x] = 0\n",
        "   else:\n",
        "    result[y][x] = variance\n",
        "\n",
        "   #print(variance)\n",
        "  \n",
        " return result"
      ],
      "metadata": {
        "id": "Vr2HEysty6NS"
      },
      "execution_count": null,
      "outputs": []
    },
    {
      "cell_type": "code",
      "source": [
        "plt.subplots(nrows=3, ncols=2, figsize=(25, 25))\n",
        "\n",
        "image,image_squared = toArrayAndSquare(im)\n",
        "plt.subplot(3,2,1)\n",
        "plt.imshow(image,  cmap = 'gray')\n",
        "\n",
        "plt.subplot(3,2,3)\n",
        "plt.imshow(image_squared,  cmap = 'gray')\n",
        "\n",
        "output_integral_1 = integralArray(image)\n",
        "output_integral_1squared = integralArray(image_squared)\n",
        "\n",
        "final_result1 = imgWithIntegral(im,[3,3],1)\n",
        "\n",
        "final_result2 = imgWithIntegral(im,[3,3],0)\n",
        "\n",
        "\n",
        "\n",
        "\n",
        "plt.subplot(3,2,2)\n",
        "plt.imshow(output_integral_1,  cmap = 'gray')\n",
        "\n",
        "\n",
        "\n",
        "plt.subplot(3,2,4)\n",
        "plt.imshow(output_integral_1squared,  cmap = 'gray')\n",
        "\n",
        "plt.subplot(3,2,5)\n",
        "plt.imshow(final_result2,  cmap = 'gray')\n",
        "\n",
        "plt.subplot(3,2,6)\n",
        "plt.imshow(final_result1,  cmap = 'gray')\n"
      ],
      "metadata": {
        "id": "q-tXow-uPcnF"
      },
      "execution_count": null,
      "outputs": []
    },
    {
      "cell_type": "markdown",
      "source": [],
      "metadata": {
        "id": "fOHepKlCPcPX"
      }
    }
  ],
  "metadata": {
    "colab": {
      "provenance": []
    },
    "kernelspec": {
      "display_name": "Python 3",
      "name": "python3"
    },
    "language_info": {
      "name": "python"
    }
  },
  "nbformat": 4,
  "nbformat_minor": 0
}